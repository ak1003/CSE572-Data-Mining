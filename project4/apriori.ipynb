{
 "cells": [
  {
   "cell_type": "code",
   "execution_count": 522,
   "metadata": {},
   "outputs": [],
   "source": [
    "import pandas as pd \n",
    "import math\n",
    "import numpy as np"
   ]
  },
  {
   "cell_type": "code",
   "execution_count": 534,
   "metadata": {},
   "outputs": [],
   "source": [
    "insulin1=pd.read_csv('DataFolder/InsulinBolusLunchPat1.csv')\n",
    "cgm1=pd.read_csv('DataFolder/CGMSeriesLunchPat1.csv')\n",
    "cgm1=cgm1.interpolate(method ='linear', limit_direction ='backward')\n",
    "\n",
    "insulin2=pd.read_csv('DataFolder/InsulinBolusLunchPat2.csv')\n",
    "cgm2=pd.read_csv('DataFolder/CGMSeriesLunchPat2.csv')\n",
    "cgm2=cgm2.interpolate(method ='linear', limit_direction ='backward')\n",
    "\n",
    "insulin3=pd.read_csv('DataFolder/InsulinBolusLunchPat3.csv')\n",
    "cgm3=pd.read_csv('DataFolder/CGMSeriesLunchPat3.csv')\n",
    "cgm3=cgm3.interpolate(method ='linear', limit_direction ='backward')\n",
    "\n",
    "insulin4=pd.read_csv('DataFolder/InsulinBolusLunchPat4.csv')\n",
    "cgm4=pd.read_csv('DataFolder/CGMSeriesLunchPat4.csv')\n",
    "cgm4=cgm4.interpolate(method ='linear', limit_direction ='backward')\n",
    "\n",
    "insulin5=pd.read_csv('DataFolder/InsulinBolusLunchPat5.csv')\n",
    "cgm5=pd.read_csv('DataFolder/CGMSeriesLunchPat5.csv')\n",
    "cgm5=cgm5.interpolate(method ='linear', limit_direction ='backward')\n"
   ]
  },
  {
   "cell_type": "code",
   "execution_count": 535,
   "metadata": {},
   "outputs": [
    {
     "output_type": "stream",
     "name": "stdout",
     "text": "340\n"
    }
   ],
   "source": [
    "def calBins(number) : \n",
    "    quotient = int(number /10) \n",
    "    round_number =quotient*10\n",
    "    if((number * 10) > 0) : \n",
    "        n = (10 * (quotient + 1))  \n",
    "    else : \n",
    "        n = (10 * (quotient - 1)) \n",
    "      \n",
    "    return n-10\n",
    "      \n",
    "val=calBins(340)\n",
    "print(val)\n",
    "\n"
   ]
  },
  {
   "cell_type": "code",
   "execution_count": 536,
   "metadata": {},
   "outputs": [],
   "source": [
    "def create_dataset(cgm,insulin,person):\n",
    "    CGm=[]\n",
    "    CGo=[]\n",
    "    insulin_bolus=[]\n",
    "    data_final=[]\n",
    "    for i in range(len(cgm)):\n",
    "        insulin_bolus.append(str(max(insulin.loc[i]))+\"i\")\n",
    "        CGm.append(str(calBins(max(cgm.loc[i])))+\"m\")\n",
    "        CGo.append(str(calBins(cgm.loc[i][5]))+\"o\")\n",
    "        data_final.append([str(calBins(max(cgm.loc[i])))+\"m\",str(calBins(cgm.loc[i][5]))+\"o\",str(max(insulin.loc[i]))+\"i\"])\n",
    "    df=pd.DataFrame({\n",
    "        'CGm':CGm,\n",
    "        'CGo':CGo,\n",
    "        'insulin_bolus':insulin_bolus\n",
    "    })\n",
    "\n",
    "    df.to_csv('person'+str(person)+'.csv')\n",
    "\n"
   ]
  },
  {
   "cell_type": "code",
   "execution_count": 537,
   "metadata": {},
   "outputs": [],
   "source": [
    "create_dataset(cgm1,insulin1,1)\n",
    "create_dataset(cgm2,insulin2,2)\n",
    "create_dataset(cgm3,insulin3,3)\n",
    "create_dataset(cgm4,insulin4,4)\n",
    "create_dataset(cgm5,insulin5,5)"
   ]
  },
  {
   "cell_type": "code",
   "execution_count": 538,
   "metadata": {},
   "outputs": [],
   "source": [
    "import pandas as pd\n",
    "from mlxtend.preprocessing import TransactionEncoder\n",
    "from mlxtend.frequent_patterns import apriori,association_rules\n",
    "def create_rule(location):\n",
    "    pd.read_csv(str(location))\n",
    "    t = TransactionEncoder()\n",
    "    te_ary = te.fit(data_final).transform(data_final)\n",
    "    print(te_ary)\n",
    "    df = pd.DataFrame(te_ary, columns=te.columns_)\n",
    "    # print(df.to_csv('new_file.csv'))\n",
    "    frequent_itemsets = apriori(df, min_support=0.001, use_colnames=True)\n",
    "    \n",
    "    # frequent_itemsets = (apriori(df, min_support=0.02))\n",
    "    print(((frequent_itemsets)))\n",
    "    frequent_itemsets.to_csv(str(location))\n",
    "    # assocaition_rule.to_csv(\"a\"+str(location))"
   ]
  },
  {
   "cell_type": "code",
   "execution_count": 539,
   "metadata": {},
   "outputs": [
    {
     "output_type": "stream",
     "name": "stdout",
     "text": "[[False False False ... False False False]\n [False False False ... False False False]\n [False False False ... False False False]\n ...\n [False False False ... False  True False]\n [False False False ... False False False]\n [False False  True ... False False False]]\n      support            itemsets\n0    0.030303              (0.9i)\n1    0.030303              (1.0i)\n2    0.060606              (1.2i)\n3    0.030303              (1.3i)\n4    0.030303              (1.4i)\n..        ...                 ...\n159  0.030303  (210m, 2.0i, 210o)\n160  0.030303  (2.0i, 210o, 220m)\n161  0.030303  (260m, 2.0i, 250o)\n162  0.030303   (60o, 2.1i, 230m)\n163  0.030303  (2.3i, 310o, 350m)\n\n[164 rows x 2 columns]\n[[False False False ... False False False]\n [False False False ... False False False]\n [False False False ... False False False]\n ...\n [False False False ... False  True False]\n [False False False ... False False False]\n [False False  True ... False False False]]\n      support            itemsets\n0    0.030303              (0.9i)\n1    0.030303              (1.0i)\n2    0.060606              (1.2i)\n3    0.030303              (1.3i)\n4    0.030303              (1.4i)\n..        ...                 ...\n159  0.030303  (210m, 2.0i, 210o)\n160  0.030303  (2.0i, 210o, 220m)\n161  0.030303  (260m, 2.0i, 250o)\n162  0.030303   (60o, 2.1i, 230m)\n163  0.030303  (2.3i, 310o, 350m)\n\n[164 rows x 2 columns]\n[[False False False ... False False False]\n [False False False ... False False False]\n [False False False ... False False False]\n ...\n [False False False ... False  True False]\n [False False False ... False False False]\n [False False  True ... False False False]]\n      support            itemsets\n0    0.030303              (0.9i)\n1    0.030303              (1.0i)\n2    0.060606              (1.2i)\n3    0.030303              (1.3i)\n4    0.030303              (1.4i)\n..        ...                 ...\n159  0.030303  (210m, 2.0i, 210o)\n160  0.030303  (2.0i, 210o, 220m)\n161  0.030303  (260m, 2.0i, 250o)\n162  0.030303   (60o, 2.1i, 230m)\n163  0.030303  (2.3i, 310o, 350m)\n\n[164 rows x 2 columns]\n[[False False False ... False False False]\n [False False False ... False False False]\n [False False False ... False False False]\n ...\n [False False False ... False  True False]\n [False False False ... False False False]\n [False False  True ... False False False]]\n      support            itemsets\n0    0.030303              (0.9i)\n1    0.030303              (1.0i)\n2    0.060606              (1.2i)\n3    0.030303              (1.3i)\n4    0.030303              (1.4i)\n..        ...                 ...\n159  0.030303  (210m, 2.0i, 210o)\n160  0.030303  (2.0i, 210o, 220m)\n161  0.030303  (260m, 2.0i, 250o)\n162  0.030303   (60o, 2.1i, 230m)\n163  0.030303  (2.3i, 310o, 350m)\n\n[164 rows x 2 columns]\n[[False False False ... False False False]\n [False False False ... False False False]\n [False False False ... False False False]\n ...\n [False False False ... False  True False]\n [False False False ... False False False]\n [False False  True ... False False False]]\n      support            itemsets\n0    0.030303              (0.9i)\n1    0.030303              (1.0i)\n2    0.060606              (1.2i)\n3    0.030303              (1.3i)\n4    0.030303              (1.4i)\n..        ...                 ...\n159  0.030303  (210m, 2.0i, 210o)\n160  0.030303  (2.0i, 210o, 220m)\n161  0.030303  (260m, 2.0i, 250o)\n162  0.030303   (60o, 2.1i, 230m)\n163  0.030303  (2.3i, 310o, 350m)\n\n[164 rows x 2 columns]\n"
    }
   ],
   "source": [
    "create_rule(\"person1.csv\")\n",
    "create_rule(\"person2.csv\")\n",
    "create_rule(\"person3.csv\")\n",
    "create_rule(\"person4.csv\")\n",
    "create_rule(\"person5.csv\")"
   ]
  },
  {
   "cell_type": "code",
   "execution_count": 540,
   "metadata": {},
   "outputs": [],
   "source": [
    "def extract_info(value):\n",
    "    final_arr=[]\n",
    "    print((value))\n",
    "    index1=value.index(\"{\")\n",
    "    index2=value.index(\"}\")\n",
    "    print(index1)\n",
    "    print(index2)\n",
    "    new_string=value[index1+1:index2]\n",
    "    arr_split=(new_string.split(\",\"))\n",
    "    print(arr_split)\n",
    "    for i in range(len(arr_split)):\n",
    "        if(arr_split[i][-2])==\"m\":\n",
    "            ind=arr_split[i].index(\"m\")\n",
    "            m=arr_split[i][2:ind]\n",
    "            print(m)\n",
    "        elif(arr_split[i][-2])==\"o\":\n",
    "            ind=arr_split[i].index(\"o\")\n",
    "            o=arr_split[i][2:ind]\n",
    "            print(o) \n",
    "        else:\n",
    "            ind=arr_split[i].index(\"i\")\n",
    "            iv=arr_split[i][1:ind]\n",
    "            print(iv)\n",
    "    \n",
    "    # final_arr.append([m,o,iv])\n",
    "\n",
    "    return m,o,iv\n",
    "\n",
    "    \n",
    "\n"
   ]
  },
  {
   "cell_type": "code",
   "execution_count": 541,
   "metadata": {},
   "outputs": [],
   "source": [
    "def create_final_csv(location):\n",
    "    arr_m=[]\n",
    "    arr_o=[]\n",
    "    arr_i=[]\n",
    "    p1=pd.read_csv(str(location))\n",
    "    p1=p1.loc[132:165]\n",
    "    p1=p1.reset_index(drop=True)\n",
    "    for i in range(len(p1)):\n",
    "        m,o,i=(extract_info(p1.loc[i]['itemsets']))\n",
    "        arr_m.append(m)\n",
    "        arr_o.append(o)\n",
    "        arr_i.append(i)\n",
    "\n",
    "    df=pd.DataFrame({\n",
    "            \"m\":arr_m,\n",
    "            \"o\":arr_o,\n",
    "            \"iv\":arr_i\n",
    "        })\n",
    "    df.to_csv(str(location))"
   ]
  },
  {
   "cell_type": "code",
   "execution_count": 542,
   "metadata": {},
   "outputs": [
    {
     "output_type": "stream",
     "name": "stdout",
     "text": "frozenset({'0.9i', '240o', '240m'})\n10\n33\n[\"'0.9i'\", \" '240o'\", \" '240m'\"]\n0.9\n240\n240\nfrozenset({'150o', '1.0i', '180m'})\n10\n33\n[\"'150o'\", \" '1.0i'\", \" '180m'\"]\n50\n'1.0\n180\nfrozenset({'130m', '1.2i', '110o'})\n10\n33\n[\"'130m'\", \" '1.2i'\", \" '110o'\"]\n30\n'1.2\n110\nfrozenset({'140o', '1.2i', '160m'})\n10\n33\n[\"'140o'\", \" '1.2i'\", \" '160m'\"]\n40\n'1.2\n160\nfrozenset({'1.3i', '210o', '230m'})\n10\n33\n[\"'1.3i'\", \" '210o'\", \" '230m'\"]\n1.3\n210\n230\nfrozenset({'100o', '140m', '1.4i'})\n10\n33\n[\"'100o'\", \" '140m'\", \" '1.4i'\"]\n00\n140\n'1.4\nfrozenset({'120m', '120o', '1.5i'})\n10\n33\n[\"'120m'\", \" '120o'\", \" '1.5i'\"]\n20\n120\n'1.5\nfrozenset({'120o', '1.5i', '130m'})\n10\n33\n[\"'120o'\", \" '1.5i'\", \" '130m'\"]\n20\n'1.5\n130\nfrozenset({'90o', '1.5i', '130m'})\n10\n32\n[\"'90o'\", \" '1.5i'\", \" '130m'\"]\n0\n'1.5\n130\nfrozenset({'180o', '200m', '1.5i'})\n10\n33\n[\"'180o'\", \" '200m'\", \" '1.5i'\"]\n80\n200\n'1.5\nfrozenset({'200m', '190o', '1.5i'})\n10\n33\n[\"'200m'\", \" '190o'\", \" '1.5i'\"]\n00\n190\n'1.5\nfrozenset({'220o', '1.5i', '230m'})\n10\n33\n[\"'220o'\", \" '1.5i'\", \" '230m'\"]\n20\n'1.5\n230\nfrozenset({'270m', '260o', '1.5i'})\n10\n33\n[\"'270m'\", \" '260o'\", \" '1.5i'\"]\n70\n260\n'1.5\nfrozenset({'130m', '1.6i', '80o'})\n10\n32\n[\"'130m'\", \" '1.6i'\", \" '80o'\"]\n30\n'1.6\n80\nfrozenset({'150o', '1.6i', '160m'})\n10\n33\n[\"'150o'\", \" '1.6i'\", \" '160m'\"]\n50\n'1.6\n160\nfrozenset({'1.6i', '220o', '230m'})\n10\n33\n[\"'1.6i'\", \" '220o'\", \" '230m'\"]\n1.6\n220\n230\nfrozenset({'1.7i', '190m', '160o'})\n10\n33\n[\"'1.7i'\", \" '190m'\", \" '160o'\"]\n1.7\n190\n160\nfrozenset({'1.7i', '180m', '180o'})\n10\n33\n[\"'1.7i'\", \" '180m'\", \" '180o'\"]\n1.7\n180\n180\nfrozenset({'1.7i', '200m', '190o'})\n10\n33\n[\"'1.7i'\", \" '200m'\", \" '190o'\"]\n1.7\n200\n190\nfrozenset({'210m', '1.7i', '210o'})\n10\n33\n[\"'210m'\", \" '1.7i'\", \" '210o'\"]\n10\n'1.7\n210\nfrozenset({'1.7i', '210o', '220m'})\n10\n33\n[\"'1.7i'\", \" '210o'\", \" '220m'\"]\n1.7\n210\n220\nfrozenset({'1.8i', '130o', '180m'})\n10\n33\n[\"'1.8i'\", \" '130o'\", \" '180m'\"]\n1.8\n130\n180\nfrozenset({'1.9i', '140o', '190m'})\n10\n33\n[\"'1.9i'\", \" '140o'\", \" '190m'\"]\n1.9\n140\n190\nfrozenset({'140o', '2.1i', '140m'})\n10\n33\n[\"'140o'\", \" '2.1i'\", \" '140m'\"]\n40\n'2.1\n140\nfrozenset({'2.2i', '140o', '190m'})\n10\n33\n[\"'2.2i'\", \" '140o'\", \" '190m'\"]\n2.2\n140\n190\nfrozenset({'2.0i', '170o', '180m'})\n10\n33\n[\"'2.0i'\", \" '170o'\", \" '180m'\"]\n2.0\n170\n180\nfrozenset({'2.0i', '200m', '180o'})\n10\n33\n[\"'2.0i'\", \" '200m'\", \" '180o'\"]\n2.0\n200\n180\nfrozenset({'210m', '2.0i', '210o'})\n10\n33\n[\"'210m'\", \" '2.0i'\", \" '210o'\"]\n10\n'2.0\n210\nfrozenset({'2.0i', '210o', '220m'})\n10\n33\n[\"'2.0i'\", \" '210o'\", \" '220m'\"]\n2.0\n210\n220\nfrozenset({'260m', '2.0i', '250o'})\n10\n33\n[\"'260m'\", \" '2.0i'\", \" '250o'\"]\n60\n'2.0\n250\nfrozenset({'60o', '2.1i', '230m'})\n10\n32\n[\"'60o'\", \" '2.1i'\", \" '230m'\"]\n0\n'2.1\n230\nfrozenset({'2.3i', '310o', '350m'})\n10\n33\n[\"'2.3i'\", \" '310o'\", \" '350m'\"]\n2.3\n310\n350\nfrozenset({'0.9i', '240o', '240m'})\n10\n33\n[\"'0.9i'\", \" '240o'\", \" '240m'\"]\n0.9\n240\n240\nfrozenset({'150o', '1.0i', '180m'})\n10\n33\n[\"'150o'\", \" '1.0i'\", \" '180m'\"]\n50\n'1.0\n180\nfrozenset({'130m', '1.2i', '110o'})\n10\n33\n[\"'130m'\", \" '1.2i'\", \" '110o'\"]\n30\n'1.2\n110\nfrozenset({'140o', '1.2i', '160m'})\n10\n33\n[\"'140o'\", \" '1.2i'\", \" '160m'\"]\n40\n'1.2\n160\nfrozenset({'1.3i', '210o', '230m'})\n10\n33\n[\"'1.3i'\", \" '210o'\", \" '230m'\"]\n1.3\n210\n230\nfrozenset({'100o', '140m', '1.4i'})\n10\n33\n[\"'100o'\", \" '140m'\", \" '1.4i'\"]\n00\n140\n'1.4\nfrozenset({'120m', '120o', '1.5i'})\n10\n33\n[\"'120m'\", \" '120o'\", \" '1.5i'\"]\n20\n120\n'1.5\nfrozenset({'120o', '1.5i', '130m'})\n10\n33\n[\"'120o'\", \" '1.5i'\", \" '130m'\"]\n20\n'1.5\n130\nfrozenset({'90o', '1.5i', '130m'})\n10\n32\n[\"'90o'\", \" '1.5i'\", \" '130m'\"]\n0\n'1.5\n130\nfrozenset({'180o', '200m', '1.5i'})\n10\n33\n[\"'180o'\", \" '200m'\", \" '1.5i'\"]\n80\n200\n'1.5\nfrozenset({'200m', '190o', '1.5i'})\n10\n33\n[\"'200m'\", \" '190o'\", \" '1.5i'\"]\n00\n190\n'1.5\nfrozenset({'220o', '1.5i', '230m'})\n10\n33\n[\"'220o'\", \" '1.5i'\", \" '230m'\"]\n20\n'1.5\n230\nfrozenset({'270m', '260o', '1.5i'})\n10\n33\n[\"'270m'\", \" '260o'\", \" '1.5i'\"]\n70\n260\n'1.5\nfrozenset({'130m', '1.6i', '80o'})\n10\n32\n[\"'130m'\", \" '1.6i'\", \" '80o'\"]\n30\n'1.6\n80\nfrozenset({'150o', '1.6i', '160m'})\n10\n33\n[\"'150o'\", \" '1.6i'\", \" '160m'\"]\n50\n'1.6\n160\nfrozenset({'1.6i', '220o', '230m'})\n10\n33\n[\"'1.6i'\", \" '220o'\", \" '230m'\"]\n1.6\n220\n230\nfrozenset({'1.7i', '190m', '160o'})\n10\n33\n[\"'1.7i'\", \" '190m'\", \" '160o'\"]\n1.7\n190\n160\nfrozenset({'1.7i', '180m', '180o'})\n10\n33\n[\"'1.7i'\", \" '180m'\", \" '180o'\"]\n1.7\n180\n180\nfrozenset({'1.7i', '200m', '190o'})\n10\n33\n[\"'1.7i'\", \" '200m'\", \" '190o'\"]\n1.7\n200\n190\nfrozenset({'210m', '1.7i', '210o'})\n10\n33\n[\"'210m'\", \" '1.7i'\", \" '210o'\"]\n10\n'1.7\n210\nfrozenset({'1.7i', '210o', '220m'})\n10\n33\n[\"'1.7i'\", \" '210o'\", \" '220m'\"]\n1.7\n210\n220\nfrozenset({'1.8i', '130o', '180m'})\n10\n33\n[\"'1.8i'\", \" '130o'\", \" '180m'\"]\n1.8\n130\n180\nfrozenset({'1.9i', '140o', '190m'})\n10\n33\n[\"'1.9i'\", \" '140o'\", \" '190m'\"]\n1.9\n140\n190\nfrozenset({'140o', '2.1i', '140m'})\n10\n33\n[\"'140o'\", \" '2.1i'\", \" '140m'\"]\n40\n'2.1\n140\nfrozenset({'2.2i', '140o', '190m'})\n10\n33\n[\"'2.2i'\", \" '140o'\", \" '190m'\"]\n2.2\n140\n190\nfrozenset({'2.0i', '170o', '180m'})\n10\n33\n[\"'2.0i'\", \" '170o'\", \" '180m'\"]\n2.0\n170\n180\nfrozenset({'2.0i', '200m', '180o'})\n10\n33\n[\"'2.0i'\", \" '200m'\", \" '180o'\"]\n2.0\n200\n180\nfrozenset({'210m', '2.0i', '210o'})\n10\n33\n[\"'210m'\", \" '2.0i'\", \" '210o'\"]\n10\n'2.0\n210\nfrozenset({'2.0i', '210o', '220m'})\n10\n33\n[\"'2.0i'\", \" '210o'\", \" '220m'\"]\n2.0\n210\n220\nfrozenset({'260m', '2.0i', '250o'})\n10\n33\n[\"'260m'\", \" '2.0i'\", \" '250o'\"]\n60\n'2.0\n250\nfrozenset({'60o', '2.1i', '230m'})\n10\n32\n[\"'60o'\", \" '2.1i'\", \" '230m'\"]\n0\n'2.1\n230\nfrozenset({'2.3i', '310o', '350m'})\n10\n33\n[\"'2.3i'\", \" '310o'\", \" '350m'\"]\n2.3\n310\n350\nfrozenset({'0.9i', '240o', '240m'})\n10\n33\n[\"'0.9i'\", \" '240o'\", \" '240m'\"]\n0.9\n240\n240\nfrozenset({'150o', '1.0i', '180m'})\n10\n33\n[\"'150o'\", \" '1.0i'\", \" '180m'\"]\n50\n'1.0\n180\nfrozenset({'130m', '1.2i', '110o'})\n10\n33\n[\"'130m'\", \" '1.2i'\", \" '110o'\"]\n30\n'1.2\n110\nfrozenset({'140o', '1.2i', '160m'})\n10\n33\n[\"'140o'\", \" '1.2i'\", \" '160m'\"]\n40\n'1.2\n160\nfrozenset({'1.3i', '210o', '230m'})\n10\n33\n[\"'1.3i'\", \" '210o'\", \" '230m'\"]\n1.3\n210\n230\nfrozenset({'100o', '140m', '1.4i'})\n10\n33\n[\"'100o'\", \" '140m'\", \" '1.4i'\"]\n00\n140\n'1.4\nfrozenset({'120m', '120o', '1.5i'})\n10\n33\n[\"'120m'\", \" '120o'\", \" '1.5i'\"]\n20\n120\n'1.5\nfrozenset({'120o', '1.5i', '130m'})\n10\n33\n[\"'120o'\", \" '1.5i'\", \" '130m'\"]\n20\n'1.5\n130\nfrozenset({'90o', '1.5i', '130m'})\n10\n32\n[\"'90o'\", \" '1.5i'\", \" '130m'\"]\n0\n'1.5\n130\nfrozenset({'180o', '200m', '1.5i'})\n10\n33\n[\"'180o'\", \" '200m'\", \" '1.5i'\"]\n80\n200\n'1.5\nfrozenset({'200m', '190o', '1.5i'})\n10\n33\n[\"'200m'\", \" '190o'\", \" '1.5i'\"]\n00\n190\n'1.5\nfrozenset({'220o', '1.5i', '230m'})\n10\n33\n[\"'220o'\", \" '1.5i'\", \" '230m'\"]\n20\n'1.5\n230\nfrozenset({'270m', '260o', '1.5i'})\n10\n33\n[\"'270m'\", \" '260o'\", \" '1.5i'\"]\n70\n260\n'1.5\nfrozenset({'130m', '1.6i', '80o'})\n10\n32\n[\"'130m'\", \" '1.6i'\", \" '80o'\"]\n30\n'1.6\n80\nfrozenset({'150o', '1.6i', '160m'})\n10\n33\n[\"'150o'\", \" '1.6i'\", \" '160m'\"]\n50\n'1.6\n160\nfrozenset({'1.6i', '220o', '230m'})\n10\n33\n[\"'1.6i'\", \" '220o'\", \" '230m'\"]\n1.6\n220\n230\nfrozenset({'1.7i', '190m', '160o'})\n10\n33\n[\"'1.7i'\", \" '190m'\", \" '160o'\"]\n1.7\n190\n160\nfrozenset({'1.7i', '180m', '180o'})\n10\n33\n[\"'1.7i'\", \" '180m'\", \" '180o'\"]\n1.7\n180\n180\nfrozenset({'1.7i', '200m', '190o'})\n10\n33\n[\"'1.7i'\", \" '200m'\", \" '190o'\"]\n1.7\n200\n190\nfrozenset({'210m', '1.7i', '210o'})\n10\n33\n[\"'210m'\", \" '1.7i'\", \" '210o'\"]\n10\n'1.7\n210\nfrozenset({'1.7i', '210o', '220m'})\n10\n33\n[\"'1.7i'\", \" '210o'\", \" '220m'\"]\n1.7\n210\n220\nfrozenset({'1.8i', '130o', '180m'})\n10\n33\n[\"'1.8i'\", \" '130o'\", \" '180m'\"]\n1.8\n130\n180\nfrozenset({'1.9i', '140o', '190m'})\n10\n33\n[\"'1.9i'\", \" '140o'\", \" '190m'\"]\n1.9\n140\n190\nfrozenset({'140o', '2.1i', '140m'})\n10\n33\n[\"'140o'\", \" '2.1i'\", \" '140m'\"]\n40\n'2.1\n140\nfrozenset({'2.2i', '140o', '190m'})\n10\n33\n[\"'2.2i'\", \" '140o'\", \" '190m'\"]\n2.2\n140\n190\nfrozenset({'2.0i', '170o', '180m'})\n10\n33\n[\"'2.0i'\", \" '170o'\", \" '180m'\"]\n2.0\n170\n180\nfrozenset({'2.0i', '200m', '180o'})\n10\n33\n[\"'2.0i'\", \" '200m'\", \" '180o'\"]\n2.0\n200\n180\nfrozenset({'210m', '2.0i', '210o'})\n10\n33\n[\"'210m'\", \" '2.0i'\", \" '210o'\"]\n10\n'2.0\n210\nfrozenset({'2.0i', '210o', '220m'})\n10\n33\n[\"'2.0i'\", \" '210o'\", \" '220m'\"]\n2.0\n210\n220\nfrozenset({'260m', '2.0i', '250o'})\n10\n33\n[\"'260m'\", \" '2.0i'\", \" '250o'\"]\n60\n'2.0\n250\nfrozenset({'60o', '2.1i', '230m'})\n10\n32\n[\"'60o'\", \" '2.1i'\", \" '230m'\"]\n0\n'2.1\n230\nfrozenset({'2.3i', '310o', '350m'})\n10\n33\n[\"'2.3i'\", \" '310o'\", \" '350m'\"]\n2.3\n310\n350\nfrozenset({'0.9i', '240o', '240m'})\n10\n33\n[\"'0.9i'\", \" '240o'\", \" '240m'\"]\n0.9\n240\n240\nfrozenset({'150o', '1.0i', '180m'})\n10\n33\n[\"'150o'\", \" '1.0i'\", \" '180m'\"]\n50\n'1.0\n180\nfrozenset({'130m', '1.2i', '110o'})\n10\n33\n[\"'130m'\", \" '1.2i'\", \" '110o'\"]\n30\n'1.2\n110\nfrozenset({'140o', '1.2i', '160m'})\n10\n33\n[\"'140o'\", \" '1.2i'\", \" '160m'\"]\n40\n'1.2\n160\nfrozenset({'1.3i', '210o', '230m'})\n10\n33\n[\"'1.3i'\", \" '210o'\", \" '230m'\"]\n1.3\n210\n230\nfrozenset({'100o', '140m', '1.4i'})\n10\n33\n[\"'100o'\", \" '140m'\", \" '1.4i'\"]\n00\n140\n'1.4\nfrozenset({'120m', '120o', '1.5i'})\n10\n33\n[\"'120m'\", \" '120o'\", \" '1.5i'\"]\n20\n120\n'1.5\nfrozenset({'120o', '1.5i', '130m'})\n10\n33\n[\"'120o'\", \" '1.5i'\", \" '130m'\"]\n20\n'1.5\n130\nfrozenset({'90o', '1.5i', '130m'})\n10\n32\n[\"'90o'\", \" '1.5i'\", \" '130m'\"]\n0\n'1.5\n130\nfrozenset({'180o', '200m', '1.5i'})\n10\n33\n[\"'180o'\", \" '200m'\", \" '1.5i'\"]\n80\n200\n'1.5\nfrozenset({'200m', '190o', '1.5i'})\n10\n33\n[\"'200m'\", \" '190o'\", \" '1.5i'\"]\n00\n190\n'1.5\nfrozenset({'220o', '1.5i', '230m'})\n10\n33\n[\"'220o'\", \" '1.5i'\", \" '230m'\"]\n20\n'1.5\n230\nfrozenset({'270m', '260o', '1.5i'})\n10\n33\n[\"'270m'\", \" '260o'\", \" '1.5i'\"]\n70\n260\n'1.5\nfrozenset({'130m', '1.6i', '80o'})\n10\n32\n[\"'130m'\", \" '1.6i'\", \" '80o'\"]\n30\n'1.6\n80\nfrozenset({'150o', '1.6i', '160m'})\n10\n33\n[\"'150o'\", \" '1.6i'\", \" '160m'\"]\n50\n'1.6\n160\nfrozenset({'1.6i', '220o', '230m'})\n10\n33\n[\"'1.6i'\", \" '220o'\", \" '230m'\"]\n1.6\n220\n230\nfrozenset({'1.7i', '190m', '160o'})\n10\n33\n[\"'1.7i'\", \" '190m'\", \" '160o'\"]\n1.7\n190\n160\nfrozenset({'1.7i', '180m', '180o'})\n10\n33\n[\"'1.7i'\", \" '180m'\", \" '180o'\"]\n1.7\n180\n180\nfrozenset({'1.7i', '200m', '190o'})\n10\n33\n[\"'1.7i'\", \" '200m'\", \" '190o'\"]\n1.7\n200\n190\nfrozenset({'210m', '1.7i', '210o'})\n10\n33\n[\"'210m'\", \" '1.7i'\", \" '210o'\"]\n10\n'1.7\n210\nfrozenset({'1.7i', '210o', '220m'})\n10\n33\n[\"'1.7i'\", \" '210o'\", \" '220m'\"]\n1.7\n210\n220\nfrozenset({'1.8i', '130o', '180m'})\n10\n33\n[\"'1.8i'\", \" '130o'\", \" '180m'\"]\n1.8\n130\n180\nfrozenset({'1.9i', '140o', '190m'})\n10\n33\n[\"'1.9i'\", \" '140o'\", \" '190m'\"]\n1.9\n140\n190\nfrozenset({'140o', '2.1i', '140m'})\n10\n33\n[\"'140o'\", \" '2.1i'\", \" '140m'\"]\n40\n'2.1\n140\nfrozenset({'2.2i', '140o', '190m'})\n10\n33\n[\"'2.2i'\", \" '140o'\", \" '190m'\"]\n2.2\n140\n190\nfrozenset({'2.0i', '170o', '180m'})\n10\n33\n[\"'2.0i'\", \" '170o'\", \" '180m'\"]\n2.0\n170\n180\nfrozenset({'2.0i', '200m', '180o'})\n10\n33\n[\"'2.0i'\", \" '200m'\", \" '180o'\"]\n2.0\n200\n180\nfrozenset({'210m', '2.0i', '210o'})\n10\n33\n[\"'210m'\", \" '2.0i'\", \" '210o'\"]\n10\n'2.0\n210\nfrozenset({'2.0i', '210o', '220m'})\n10\n33\n[\"'2.0i'\", \" '210o'\", \" '220m'\"]\n2.0\n210\n220\nfrozenset({'260m', '2.0i', '250o'})\n10\n33\n[\"'260m'\", \" '2.0i'\", \" '250o'\"]\n60\n'2.0\n250\nfrozenset({'60o', '2.1i', '230m'})\n10\n32\n[\"'60o'\", \" '2.1i'\", \" '230m'\"]\n0\n'2.1\n230\nfrozenset({'2.3i', '310o', '350m'})\n10\n33\n[\"'2.3i'\", \" '310o'\", \" '350m'\"]\n2.3\n310\n350\nfrozenset({'0.9i', '240o', '240m'})\n10\n33\n[\"'0.9i'\", \" '240o'\", \" '240m'\"]\n0.9\n240\n240\nfrozenset({'150o', '1.0i', '180m'})\n10\n33\n[\"'150o'\", \" '1.0i'\", \" '180m'\"]\n50\n'1.0\n180\nfrozenset({'130m', '1.2i', '110o'})\n10\n33\n[\"'130m'\", \" '1.2i'\", \" '110o'\"]\n30\n'1.2\n110\nfrozenset({'140o', '1.2i', '160m'})\n10\n33\n[\"'140o'\", \" '1.2i'\", \" '160m'\"]\n40\n'1.2\n160\nfrozenset({'1.3i', '210o', '230m'})\n10\n33\n[\"'1.3i'\", \" '210o'\", \" '230m'\"]\n1.3\n210\n230\nfrozenset({'100o', '140m', '1.4i'})\n10\n33\n[\"'100o'\", \" '140m'\", \" '1.4i'\"]\n00\n140\n'1.4\nfrozenset({'120m', '120o', '1.5i'})\n10\n33\n[\"'120m'\", \" '120o'\", \" '1.5i'\"]\n20\n120\n'1.5\nfrozenset({'120o', '1.5i', '130m'})\n10\n33\n[\"'120o'\", \" '1.5i'\", \" '130m'\"]\n20\n'1.5\n130\nfrozenset({'90o', '1.5i', '130m'})\n10\n32\n[\"'90o'\", \" '1.5i'\", \" '130m'\"]\n0\n'1.5\n130\nfrozenset({'180o', '200m', '1.5i'})\n10\n33\n[\"'180o'\", \" '200m'\", \" '1.5i'\"]\n80\n200\n'1.5\nfrozenset({'200m', '190o', '1.5i'})\n10\n33\n[\"'200m'\", \" '190o'\", \" '1.5i'\"]\n00\n190\n'1.5\nfrozenset({'220o', '1.5i', '230m'})\n10\n33\n[\"'220o'\", \" '1.5i'\", \" '230m'\"]\n20\n'1.5\n230\nfrozenset({'270m', '260o', '1.5i'})\n10\n33\n[\"'270m'\", \" '260o'\", \" '1.5i'\"]\n70\n260\n'1.5\nfrozenset({'130m', '1.6i', '80o'})\n10\n32\n[\"'130m'\", \" '1.6i'\", \" '80o'\"]\n30\n'1.6\n80\nfrozenset({'150o', '1.6i', '160m'})\n10\n33\n[\"'150o'\", \" '1.6i'\", \" '160m'\"]\n50\n'1.6\n160\nfrozenset({'1.6i', '220o', '230m'})\n10\n33\n[\"'1.6i'\", \" '220o'\", \" '230m'\"]\n1.6\n220\n230\nfrozenset({'1.7i', '190m', '160o'})\n10\n33\n[\"'1.7i'\", \" '190m'\", \" '160o'\"]\n1.7\n190\n160\nfrozenset({'1.7i', '180m', '180o'})\n10\n33\n[\"'1.7i'\", \" '180m'\", \" '180o'\"]\n1.7\n180\n180\nfrozenset({'1.7i', '200m', '190o'})\n10\n33\n[\"'1.7i'\", \" '200m'\", \" '190o'\"]\n1.7\n200\n190\nfrozenset({'210m', '1.7i', '210o'})\n10\n33\n[\"'210m'\", \" '1.7i'\", \" '210o'\"]\n10\n'1.7\n210\nfrozenset({'1.7i', '210o', '220m'})\n10\n33\n[\"'1.7i'\", \" '210o'\", \" '220m'\"]\n1.7\n210\n220\nfrozenset({'1.8i', '130o', '180m'})\n10\n33\n[\"'1.8i'\", \" '130o'\", \" '180m'\"]\n1.8\n130\n180\nfrozenset({'1.9i', '140o', '190m'})\n10\n33\n[\"'1.9i'\", \" '140o'\", \" '190m'\"]\n1.9\n140\n190\nfrozenset({'140o', '2.1i', '140m'})\n10\n33\n[\"'140o'\", \" '2.1i'\", \" '140m'\"]\n40\n'2.1\n140\nfrozenset({'2.2i', '140o', '190m'})\n10\n33\n[\"'2.2i'\", \" '140o'\", \" '190m'\"]\n2.2\n140\n190\nfrozenset({'2.0i', '170o', '180m'})\n10\n33\n[\"'2.0i'\", \" '170o'\", \" '180m'\"]\n2.0\n170\n180\nfrozenset({'2.0i', '200m', '180o'})\n10\n33\n[\"'2.0i'\", \" '200m'\", \" '180o'\"]\n2.0\n200\n180\nfrozenset({'210m', '2.0i', '210o'})\n10\n33\n[\"'210m'\", \" '2.0i'\", \" '210o'\"]\n10\n'2.0\n210\nfrozenset({'2.0i', '210o', '220m'})\n10\n33\n[\"'2.0i'\", \" '210o'\", \" '220m'\"]\n2.0\n210\n220\nfrozenset({'260m', '2.0i', '250o'})\n10\n33\n[\"'260m'\", \" '2.0i'\", \" '250o'\"]\n60\n'2.0\n250\nfrozenset({'60o', '2.1i', '230m'})\n10\n32\n[\"'60o'\", \" '2.1i'\", \" '230m'\"]\n0\n'2.1\n230\nfrozenset({'2.3i', '310o', '350m'})\n10\n33\n[\"'2.3i'\", \" '310o'\", \" '350m'\"]\n2.3\n310\n350\n"
    }
   ],
   "source": [
    "create_final_csv(\"person1.csv\")\n",
    "create_final_csv(\"person2.csv\")\n",
    "create_final_csv(\"person3.csv\")\n",
    "create_final_csv(\"person4.csv\")\n",
    "create_final_csv(\"person5.csv\")"
   ]
  },
  {
   "cell_type": "code",
   "execution_count": 543,
   "metadata": {},
   "outputs": [],
   "source": [
    "f1=pd.read_csv(\"person1.csv\")\n",
    "f2=pd.read_csv(\"person2.csv\")\n",
    "f3=pd.read_csv(\"person3.csv\")\n",
    "f4=pd.read_csv(\"person4.csv\")\n",
    "f5=pd.read_csv(\"person5.csv\")\n",
    "f6=pd.concat([f1,f2,f3,f4,f5])"
   ]
  },
  {
   "cell_type": "code",
   "execution_count": 544,
   "metadata": {},
   "outputs": [
    {
     "output_type": "stream",
     "name": "stdout",
     "text": "(160, 4)\n"
    }
   ],
   "source": [
    "print(f6.shape)"
   ]
  },
  {
   "cell_type": "code",
   "execution_count": 545,
   "metadata": {},
   "outputs": [],
   "source": [
    "f6.to_csv(\"final_frequent_dataset.csv\")"
   ]
  },
  {
   "cell_type": "code",
   "execution_count": 546,
   "metadata": {},
   "outputs": [],
   "source": [
    "def assocaition_rules(location):\n",
    "    pd.read_csv(str(location))\n",
    "    te = TransactionEncoder()\n",
    "    te_ary = te.fit(data_final).transform(data_final)\n",
    "    df = pd.DataFrame(te_ary, columns=te.columns_)\n",
    "    rules=association_rules(frequent_itemsets)\n",
    "    print(rules)\n",
    "    rules.to_csv(\"most_frequent.csv\")\n",
    "# final_arr=[]"
   ]
  },
  {
   "cell_type": "code",
   "execution_count": 547,
   "metadata": {},
   "outputs": [
    {
     "output_type": "stream",
     "name": "stdout",
     "text": "antecedents   consequents  antecedent support  consequent support  \\\n0          (0.9i)        (240m)            0.030303            0.030303   \n1          (240m)        (0.9i)            0.030303            0.030303   \n2          (0.9i)        (240o)            0.030303            0.030303   \n3          (240o)        (0.9i)            0.030303            0.030303   \n4          (1.0i)        (150o)            0.030303            0.060606   \n..            ...           ...                 ...                 ...   \n149  (2.3i, 350m)        (310o)            0.030303            0.030303   \n150  (310o, 350m)        (2.3i)            0.030303            0.030303   \n151        (2.3i)  (310o, 350m)            0.030303            0.030303   \n152        (310o)  (2.3i, 350m)            0.030303            0.030303   \n153        (350m)  (2.3i, 310o)            0.030303            0.030303   \n\n      support  confidence  lift  leverage  conviction  \n0    0.030303         1.0  33.0  0.029385         inf  \n1    0.030303         1.0  33.0  0.029385         inf  \n2    0.030303         1.0  33.0  0.029385         inf  \n3    0.030303         1.0  33.0  0.029385         inf  \n4    0.030303         1.0  16.5  0.028466         inf  \n..        ...         ...   ...       ...         ...  \n149  0.030303         1.0  33.0  0.029385         inf  \n150  0.030303         1.0  33.0  0.029385         inf  \n151  0.030303         1.0  33.0  0.029385         inf  \n152  0.030303         1.0  33.0  0.029385         inf  \n153  0.030303         1.0  33.0  0.029385         inf  \n\n[154 rows x 9 columns]\n"
    }
   ],
   "source": [
    "assocaition_rules(\"person2.csv\")"
   ]
  },
  {
   "cell_type": "code",
   "execution_count": 548,
   "metadata": {},
   "outputs": [
    {
     "output_type": "execute_result",
     "data": {
      "text/plain": "(154, 10)"
     },
     "metadata": {},
     "execution_count": 548
    }
   ],
   "source": [
    "m_df=pd.read_csv(\"most_frequent.csv\")\n",
    "m_df.shape"
   ]
  },
  {
   "cell_type": "code",
   "execution_count": 549,
   "metadata": {},
   "outputs": [],
   "source": [
    "anc_arr=[]\n",
    "con_arr=[]\n",
    "def r_exression(value):\n",
    "    index1=value.index(\"{\")\n",
    "    index2=value.index(\"}\")\n",
    "    print(index1)\n",
    "    print(index2)\n",
    "    new_string=value[index1+1:index2]\n",
    "    arr_split=(new_string.split(\",\"))\n",
    "    print(arr_split)\n",
    "    for i in range(len(arr_split)):\n",
    "        if(arr_split[i][-2])==\"m\":\n",
    "            ind=arr_split[i].index(\"m\")\n",
    "            m=arr_split[i][2:ind]\n",
    "            print(m)\n",
    "        elif(arr_split[i][-2])==\"o\":\n",
    "            ind=arr_split[i].index(\"o\")\n",
    "            o=arr_split[i][2:ind]\n",
    "            print(o)\n",
    "    return m,o\n",
    "\n",
    "def extract_inf_m(m_df):\n",
    "    for i in range(len(m_df)):\n",
    "        anc=m_df.loc[i][\"consequents\"]\n",
    "        if (anc[-4])==\"i\":\n",
    "            anc_arr.append((m_df.loc[i][\"antecedents\"]))\n",
    "            con_arr.append((m_df.loc[i][\"consequents\"]))\n",
    "    print(anc_arr)\n",
    "    df=pd.DataFrame({\n",
    "        \"con\":con_arr,\n",
    "        \"anc\":anc_arr\n",
    "    })\n",
    "    df.to_csv(\"final_feq.csv\")"
   ]
  },
  {
   "cell_type": "code",
   "execution_count": null,
   "metadata": {},
   "outputs": [],
   "source": []
  },
  {
   "cell_type": "code",
   "execution_count": 550,
   "metadata": {},
   "outputs": [
    {
     "output_type": "stream",
     "name": "stdout",
     "text": "[\"frozenset({'240m'})\", \"frozenset({'240o'})\", \"frozenset({'110o'})\", \"frozenset({'100o'})\", \"frozenset({'120m'})\", \"frozenset({'120o'})\", \"frozenset({'260o'})\", \"frozenset({'270m'})\", \"frozenset({'90o'})\", \"frozenset({'80o'})\", \"frozenset({'160o'})\", \"frozenset({'130o'})\", \"frozenset({'170o'})\", \"frozenset({'250o'})\", \"frozenset({'260m'})\", \"frozenset({'60o'})\", \"frozenset({'310o'})\", \"frozenset({'350m'})\", \"frozenset({'240o', '240m'})\", \"frozenset({'150o', '180m'})\", \"frozenset({'110o', '130m'})\", \"frozenset({'140o', '160m'})\", \"frozenset({'210o', '230m'})\", \"frozenset({'100o', '140m'})\", \"frozenset({'100o'})\", \"frozenset({'120m', '120o'})\", \"frozenset({'120m'})\", \"frozenset({'120o', '130m'})\", \"frozenset({'90o', '130m'})\", \"frozenset({'270m', '260o'})\", \"frozenset({'270m'})\", \"frozenset({'260o'})\", \"frozenset({'80o', '130m'})\", \"frozenset({'150o', '160m'})\", \"frozenset({'190m', '160o'})\", \"frozenset({'180m', '180o'})\", \"frozenset({'130o', '180m'})\", \"frozenset({'140o', '140m'})\", \"frozenset({'170o', '180m'})\", \"frozenset({'260m', '250o'})\", \"frozenset({'250o'})\", \"frozenset({'60o', '230m'})\", \"frozenset({'310o', '350m'})\"]\n"
    }
   ],
   "source": [
    "extract_inf_m(m_df)"
   ]
  },
  {
   "cell_type": "code",
   "execution_count": null,
   "metadata": {},
   "outputs": [],
   "source": []
  }
 ],
 "metadata": {
  "language_info": {
   "codemirror_mode": {
    "name": "ipython",
    "version": 3
   },
   "file_extension": ".py",
   "mimetype": "text/x-python",
   "name": "python",
   "nbconvert_exporter": "python",
   "pygments_lexer": "ipython3",
   "version": "3.8.1-final"
  },
  "orig_nbformat": 2,
  "kernelspec": {
   "name": "python3",
   "display_name": "Python 3"
  }
 },
 "nbformat": 4,
 "nbformat_minor": 2
}